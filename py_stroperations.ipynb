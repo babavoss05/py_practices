{
 "cells": [
  {
   "attachments": {},
   "cell_type": "markdown",
   "metadata": {},
   "source": [
    "String operations in python :"
   ]
  },
  {
   "cell_type": "markdown",
   "metadata": {},
   "source": [
    "Title() :\n",
    " This operation helps us to convert the first letter of each word in the string so that we can get the right format of title. Let us convert the following string using title(). \n",
    " \n",
    " I've mentioned R of Reimann in capital because, if the letter which is to be capitalised is already in capital letter, then the interpreter won't make any tweaks in that word alone."
   ]
  },
  {
   "cell_type": "code",
   "execution_count": 2,
   "metadata": {},
   "outputs": [
    {
     "data": {
      "text/plain": [
       "'Is It Even Possible To Solve The Reimann Hypothesis?'"
      ]
     },
     "execution_count": 2,
     "metadata": {},
     "output_type": "execute_result"
    }
   ],
   "source": [
    "v=\"is it even possible to solve the Reimann hypothesis?\"\n",
    "v.title()"
   ]
  },
  {
   "cell_type": "markdown",
   "metadata": {},
   "source": [
    "Split():\n",
    " This method is used to convert each word in the string into a list with each words having their own quotation and seperated by commas. Indentation plays an important role here \n",
    " \n",
    " When a string is like \"hey there\", and split() is used\n",
    "\n",
    " The output is displayed as: ['hey', 'there']\n",
    " "
   ]
  },
  {
   "cell_type": "code",
   "execution_count": 5,
   "metadata": {},
   "outputs": [
    {
     "data": {
      "text/plain": [
       "'Hey There'"
      ]
     },
     "execution_count": 5,
     "metadata": {},
     "output_type": "execute_result"
    }
   ],
   "source": [
    "e=\"hey there\"\n",
    "e.split()"
   ]
  },
  {
   "cell_type": "markdown",
   "metadata": {},
   "source": [
    "Searching for a specific word in a string:\n",
    " This is useful when you're searching for a exact specific word in a string. Let us assume that I'm going to search for a word called \"Dilemma\" in some paragraph or few lines. \n",
    "\n",
    " I would simply use this method to save the time taken to read the whole paragraph.\n",
    "\n",
    " So, the structure of this would be like: \"the word that you want to search\" in \"Paragraph of long lines\".\n",
    "\n",
    " If match is found, then the output would be True and on the contrary it would be False"
   ]
  },
  {
   "cell_type": "code",
   "execution_count": 6,
   "metadata": {},
   "outputs": [
    {
     "data": {
      "text/plain": [
       "False"
      ]
     },
     "execution_count": 6,
     "metadata": {},
     "output_type": "execute_result"
    }
   ],
   "source": [
    "\"Consistency\" in \"\"\"Winning rights for women is about more than giving opportunities to any individual woman or girl; it is also about changing how countries and communities work. It involves changing laws and policies, winning hearts and minds, and investing in strong women’s organizations and movements.\n",
    "\n",
    "Global Fund for Women exists to support the tireless and courageous efforts of women’s groups who work every day to win rights for women and girls. These groups are working to ensure women can own property, vote, run for office, get paid fair wages, and live free from violence – including domestic violence, sexual assault, and harmful practices such as female genital mutilation.\"\"\""
   ]
  },
  {
   "cell_type": "markdown",
   "metadata": {},
   "source": [
    "Find():\n",
    " This is done in a simple way, initialize a varible with the word that you need to find. \n",
    "\n",
    " Then, use this: variable.find(\"the word you need\").\n",
    "\n",
    " If no match is found, it returns -1.\n",
    "\n",
    " The first letter will be stored in the index value zero (0).\n",
    " \n",
    "\n",
    " "
   ]
  },
  {
   "cell_type": "code",
   "execution_count": 17,
   "metadata": {},
   "outputs": [
    {
     "data": {
      "text/plain": [
       "7"
      ]
     },
     "execution_count": 17,
     "metadata": {},
     "output_type": "execute_result"
    }
   ],
   "source": [
    "d=\"Should I choose Porsche over a Lambhorgini?\"\n",
    "d.find(\"I\")\n"
   ]
  },
  {
   "cell_type": "markdown",
   "metadata": {},
   "source": [
    "Count():\n",
    " It is used to find out how many times the word has been repeated/occurred in the string.\n",
    "\n",
    " It is case sensitive.(Dark and dark are considered as two different words)"
   ]
  },
  {
   "cell_type": "code",
   "execution_count": 14,
   "metadata": {},
   "outputs": [
    {
     "data": {
      "text/plain": [
       "3"
      ]
     },
     "execution_count": 14,
     "metadata": {},
     "output_type": "execute_result"
    }
   ],
   "source": [
    "# I'll be using lyrics of Perfect by Ed Sheeran to explain this\n",
    "h=\"\"\"I found a love, for me\n",
    "Darling, just dive right in and follow my lead\n",
    "Well, I found a girl, beautiful and sweet\n",
    "Oh, I never knew you were the someone waiting for me\n",
    "'Cause we were just kids when we fell in love\n",
    "Not knowing what it was\n",
    "I will not give you up this time\n",
    "But darling, just kiss me slow\n",
    "Your heart is all I own\n",
    "And in your eyes, you're holding mine\n",
    "Baby, I'm dancing in the dark\n",
    "With you between my arms\n",
    "Barefoot on the grass\n",
    "Listening to our favourite song\n",
    "When you said you looked a mess\n",
    "I whispered underneath my breath\n",
    "But you heard it\n",
    "Darling, you look perfect tonight\n",
    "Well, I found a woman, stronger than anyone I know\n",
    "She shares my dreams, I hope that someday I'll share her home\n",
    "I found a lover, to carry more than just my secrets\n",
    "To carry love, to carry children of our own\n",
    "We are still kids, but we're so in love\n",
    "Fighting against all odds\n",
    "I know we'll be alright this time\n",
    "Darling, just hold my hand\n",
    "Be my girl, I'll be your man\n",
    "I see my future in your eyes\n",
    "Baby, I'm dancing in the dark\n",
    "With you between my arms\n",
    "Barefoot on the grass\n",
    "Listening to our favorite song\n",
    "When I saw you in that dress, looking so beautiful\n",
    "I don't deserve this\n",
    "Darling, you look perfect tonight\n",
    "Baby, I'm dancing in the dark\n",
    "With you between my arms\n",
    "Barefoot on the grass\n",
    "Listening to our favorite song\n",
    "I have faith in what I see\n",
    "Now I know I have met an angel in person\n",
    "And she looks perfect\n",
    "I don't deserve this\n",
    "You look perfect tonight\"\"\"\n",
    "\n",
    "h.count(\"dark\")\n",
    "#the word dark is repeated thrice in this. "
   ]
  },
  {
   "cell_type": "markdown",
   "metadata": {},
   "source": [
    "Upper and lower():\n",
    " These are used to convert the strings into either Uppercase letters or Lowercase letters."
   ]
  },
  {
   "cell_type": "code",
   "execution_count": 15,
   "metadata": {},
   "outputs": [
    {
     "data": {
      "text/plain": [
       "'I FOUND HER AS A GEM AMIDST THE PILE OF GOLD'"
      ]
     },
     "execution_count": 15,
     "metadata": {},
     "output_type": "execute_result"
    }
   ],
   "source": [
    "a=\"I found her as a gem amidst the pile of gold\"\n",
    "a.upper()"
   ]
  },
  {
   "cell_type": "code",
   "execution_count": 16,
   "metadata": {},
   "outputs": [
    {
     "data": {
      "text/plain": [
       "'free top-g'"
      ]
     },
     "execution_count": 16,
     "metadata": {},
     "output_type": "execute_result"
    }
   ],
   "source": [
    "v=\"Free Top-G\"\n",
    "v.lower()"
   ]
  },
  {
   "cell_type": "markdown",
   "metadata": {},
   "source": [
    "isnumeric():\n",
    " It is used to find if the string consists of numbers alone.\n",
    "\n",
    " If it has number alone, then it returns True.\n",
    "\n",
    " If not it will return False"
   ]
  },
  {
   "cell_type": "code",
   "execution_count": 19,
   "metadata": {},
   "outputs": [
    {
     "data": {
      "text/plain": [
       "False"
      ]
     },
     "execution_count": 19,
     "metadata": {},
     "output_type": "execute_result"
    }
   ],
   "source": [
    "i=\"875488\"\n",
    "i.isnumeric()"
   ]
  },
  {
   "cell_type": "markdown",
   "metadata": {},
   "source": [
    "isalpha():\n",
    " Used to find whether the string is full of alphabets and not others.\n",
    "\n",
    " Indentations in the strings are also considered characters other than alphabets. So if the string contains blankspaces, then the result will be False\n",
    "\n",
    " Result is true when the condition is satisfied."
   ]
  },
  {
   "cell_type": "code",
   "execution_count": 23,
   "metadata": {},
   "outputs": [
    {
     "data": {
      "text/plain": [
       "True"
      ]
     },
     "execution_count": 23,
     "metadata": {},
     "output_type": "execute_result"
    }
   ],
   "source": [
    "t=\"IloveMysore\"\n",
    "t.isalpha()"
   ]
  },
  {
   "cell_type": "markdown",
   "metadata": {},
   "source": [
    "isalnum():\n",
    " It is quite the combination of isalpha() and isnumeric().\n",
    "\n",
    " Blankspaces affects the result.\n",
    "\n",
    " \n",
    "\n"
   ]
  },
  {
   "cell_type": "code",
   "execution_count": 26,
   "metadata": {},
   "outputs": [
    {
     "data": {
      "text/plain": [
       "True"
      ]
     },
     "execution_count": 26,
     "metadata": {},
     "output_type": "execute_result"
    }
   ],
   "source": [
    "h=\"9multipliedby1is9\"\n",
    "h.isalnum()"
   ]
  },
  {
   "cell_type": "markdown",
   "metadata": {},
   "source": [
    "startswith() :\n",
    " It is used to find whether the first letter of the string matches with your input.\n",
    "\n",
    " It is case sensitive."
   ]
  },
  {
   "cell_type": "code",
   "execution_count": 31,
   "metadata": {},
   "outputs": [
    {
     "data": {
      "text/plain": [
       "True"
      ]
     },
     "execution_count": 31,
     "metadata": {},
     "output_type": "execute_result"
    }
   ],
   "source": [
    "r=\"Subramaniyapuram\"\n",
    "r.startswith(\"S\")"
   ]
  },
  {
   "cell_type": "markdown",
   "metadata": {},
   "source": [
    "endswith():\n",
    " It is used to find whether the last letter of the string matches with your input.\n",
    "\n",
    " It is case sensitive.\n",
    " "
   ]
  },
  {
   "cell_type": "code",
   "execution_count": 32,
   "metadata": {},
   "outputs": [
    {
     "data": {
      "text/plain": [
       "False"
      ]
     },
     "execution_count": 32,
     "metadata": {},
     "output_type": "execute_result"
    }
   ],
   "source": [
    "a=\"Python\"\n",
    "a.endswith(\"N\")"
   ]
  },
  {
   "cell_type": "markdown",
   "metadata": {},
   "source": [
    "replace():\n",
    " Used to replace a word with another word\n",
    "\n",
    " So the format goes like variable.replace(\"the word to be replaced\",\"the new word\")\n",
    "\n",
    " Again, this one is case sensitive.\n"
   ]
  },
  {
   "cell_type": "code",
   "execution_count": 35,
   "metadata": {},
   "outputs": [
    {
     "data": {
      "text/plain": [
       "'I want to learn java'"
      ]
     },
     "execution_count": 35,
     "metadata": {},
     "output_type": "execute_result"
    }
   ],
   "source": [
    "g=(\"I want to learn GitHub\")\n",
    "g.replace(\"GitHub\",\"java\")\n",
    "#here the word github gets replaced by java"
   ]
  },
  {
   "cell_type": "markdown",
   "metadata": {},
   "source": [
    "Printing strings is easy at the beginning, but when the level goes higher, we can't simply use the print() method. Will demonstrate some other options in a shortest manner."
   ]
  },
  {
   "cell_type": "markdown",
   "metadata": {},
   "source": [
    "The format() option:\n",
    " Rather than explaining this in a theoratical way, I would give an example.\n",
    "\n",
    " While numbering, it must start with 0."
   ]
  },
  {
   "cell_type": "code",
   "execution_count": 57,
   "metadata": {},
   "outputs": [
    {
     "name": "stdout",
     "output_type": "stream",
     "text": [
      "My name is Gokul\n"
     ]
    }
   ],
   "source": [
    "o=\"name\"\n",
    "k=\"Gokul\"\n",
    "print(\"My {0} is {1}\".format(o,k))"
   ]
  },
  {
   "cell_type": "markdown",
   "metadata": {},
   "source": [
    "f-strings:\n",
    " f is used as prefix, just after the parantheses and before the quotes start.\n",
    "\n",
    " Here, we can use the variables directly within the curly braces."
   ]
  },
  {
   "cell_type": "code",
   "execution_count": 58,
   "metadata": {},
   "outputs": [
    {
     "name": "stdout",
     "output_type": "stream",
     "text": [
      "Patrick Bateman was played by Christian Bale\n"
     ]
    }
   ],
   "source": [
    "u=\"Patrick Bateman\"\n",
    "l=\"Christian Bale\"\n",
    "print(f\"{u} was played by {l}\")"
   ]
  }
 ],
 "metadata": {
  "kernelspec": {
   "display_name": "Python 3.9.12 ('base')",
   "language": "python",
   "name": "python3"
  },
  "language_info": {
   "codemirror_mode": {
    "name": "ipython",
    "version": 3
   },
   "file_extension": ".py",
   "mimetype": "text/x-python",
   "name": "python",
   "nbconvert_exporter": "python",
   "pygments_lexer": "ipython3",
   "version": "3.9.12"
  },
  "orig_nbformat": 4,
  "vscode": {
   "interpreter": {
    "hash": "1df48d30c5a43c01ef08badc77577e4367a2b658001e256ef42cfce7e032150f"
   }
  }
 },
 "nbformat": 4,
 "nbformat_minor": 2
}
